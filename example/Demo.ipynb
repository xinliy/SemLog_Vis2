{
 "cells": [
  {
   "cell_type": "markdown",
   "metadata": {},
   "source": [
    "# SemLog_Web - Main functionalities demostration\n",
    "\n",
    "__This notebook shows two main functions of semlog_web, that is  \"Entity Search\" & \"Event Search\" and how to store and use the generated local image datasets.__ "
   ]
  },
  {
   "cell_type": "code",
   "execution_count": 1,
   "metadata": {
    "ExecuteTime": {
     "end_time": "2019-11-01T10:03:40.801210Z",
     "start_time": "2019-11-01T10:03:40.796210Z"
    }
   },
   "outputs": [],
   "source": [
    "import sys\n",
    "import os\n",
    "sys.path.append(\"..\")\n",
    "from semlog_mongo.semlog_mongo.mongo import MongoDB,download_images\n",
    "from semlog_mongo.semlog_mongo.utils import event_search\n",
    "from semlog_vis.semlog_vis.bounding_box import *\n",
    "from semlog_vis.semlog_vis.image import *\n",
    "from semlog_vis.semlog_vis.create_annotation import *\n",
    "from image_path.image_path import *\n",
    "import pprint"
   ]
  },
  {
   "cell_type": "code",
   "execution_count": 2,
   "metadata": {
    "ExecuteTime": {
     "end_time": "2019-11-01T10:03:41.063724Z",
     "start_time": "2019-11-01T10:03:41.060724Z"
    }
   },
   "outputs": [],
   "source": [
    "# Define path to save images\n",
    "IMAGE_ROOT=\"./saved_images\"\n",
    "IMAGE_FOLDER=\"one_example_search\""
   ]
  },
  {
   "cell_type": "markdown",
   "metadata": {},
   "source": [
    "## 1. Entity Search\n",
    "__Entity search can be used to search for multiple objects or classes.<br>\n",
    "Think about a case that we need to train a Binary Classifier for Watermelon and Pizza. \n",
    "We need to retrieve all images contains at least one object from these two classes.<br>\n",
    "By using Entity Search we can get the result with one function call.__"
   ]
  },
  {
   "cell_type": "code",
   "execution_count": 3,
   "metadata": {
    "ExecuteTime": {
     "end_time": "2019-11-01T10:03:42.282441Z",
     "start_time": "2019-11-01T10:03:42.278441Z"
    }
   },
   "outputs": [],
   "source": [
    "# Define parameters for MongoDB\n",
    "IP=\"127.0.0.1\"\n",
    "PORT=27017\n",
    "DATABASE_COLLECTION_LIST=[\n",
    "    ['VisReplay1','1']\n",
    "]\n",
    "\n",
    "# Define parameters for entity searching\n",
    "class_id_list=['MPLemon','Rosemary02']\n",
    "object_pattern='class'\n",
    "object_logic='or'\n",
    "\n",
    "m=MongoDB(DATABASE_COLLECTION_LIST,IP,PORT)"
   ]
  },
  {
   "cell_type": "code",
   "execution_count": 4,
   "metadata": {
    "ExecuteTime": {
     "end_time": "2019-11-01T10:03:42.671478Z",
     "start_time": "2019-11-01T10:03:42.441481Z"
    }
   },
   "outputs": [],
   "source": [
    "result=m.new_entity_search(id_list=class_id_list,\n",
    "                       object_pattern=object_pattern,\n",
    "                       object_logic=object_logic)"
   ]
  },
  {
   "cell_type": "markdown",
   "metadata": {
    "ExecuteTime": {
     "end_time": "2019-10-30T20:58:20.433089Z",
     "start_time": "2019-10-30T20:58:20.413561Z"
    }
   },
   "source": [
    "__The result is stored in a pandas.Dataframe()__<br>\n",
    "__Let's check the returned data.__"
   ]
  },
  {
   "cell_type": "code",
   "execution_count": 5,
   "metadata": {
    "ExecuteTime": {
     "end_time": "2019-11-01T10:03:42.825504Z",
     "start_time": "2019-11-01T10:03:42.814503Z"
    },
    "scrolled": true
   },
   "outputs": [
    {
     "name": "stdout",
     "output_type": "stream",
     "text": [
      "(20, 12)\n"
     ]
    },
    {
     "data": {
      "text/html": [
       "<div>\n",
       "<style scoped>\n",
       "    .dataframe tbody tr th:only-of-type {\n",
       "        vertical-align: middle;\n",
       "    }\n",
       "\n",
       "    .dataframe tbody tr th {\n",
       "        vertical-align: top;\n",
       "    }\n",
       "\n",
       "    .dataframe thead th {\n",
       "        text-align: right;\n",
       "    }\n",
       "</style>\n",
       "<table border=\"1\" class=\"dataframe\">\n",
       "  <thead>\n",
       "    <tr style=\"text-align: right;\">\n",
       "      <th></th>\n",
       "      <th>type</th>\n",
       "      <th>file_id</th>\n",
       "      <th>database</th>\n",
       "      <th>collection</th>\n",
       "      <th>object</th>\n",
       "      <th>class</th>\n",
       "      <th>percentage</th>\n",
       "      <th>x_min</th>\n",
       "      <th>y_min</th>\n",
       "      <th>x_max</th>\n",
       "      <th>y_max</th>\n",
       "      <th>document</th>\n",
       "    </tr>\n",
       "  </thead>\n",
       "  <tbody>\n",
       "    <tr>\n",
       "      <th>0</th>\n",
       "      <td>Color</td>\n",
       "      <td>5dfb3c13dd3ffb3ce400090d</td>\n",
       "      <td>VisReplay1</td>\n",
       "      <td>1</td>\n",
       "      <td>AJRbR5DsWkCVKeDZntyRSw</td>\n",
       "      <td>MPLemon</td>\n",
       "      <td>3.375772e-06</td>\n",
       "      <td>1757</td>\n",
       "      <td>436</td>\n",
       "      <td>1763</td>\n",
       "      <td>437</td>\n",
       "      <td>5dfa714add3ffb21c800627c</td>\n",
       "    </tr>\n",
       "    <tr>\n",
       "      <th>1</th>\n",
       "      <td>Mask</td>\n",
       "      <td>5dfb3c13dd3ffb3ce400090f</td>\n",
       "      <td>VisReplay1</td>\n",
       "      <td>1</td>\n",
       "      <td>AJRbR5DsWkCVKeDZntyRSw</td>\n",
       "      <td>MPLemon</td>\n",
       "      <td>3.375772e-06</td>\n",
       "      <td>1757</td>\n",
       "      <td>436</td>\n",
       "      <td>1763</td>\n",
       "      <td>437</td>\n",
       "      <td>5dfa714add3ffb21c800627c</td>\n",
       "    </tr>\n",
       "    <tr>\n",
       "      <th>2</th>\n",
       "      <td>Color</td>\n",
       "      <td>5dfb3c0edd3ffb3ce40008fe</td>\n",
       "      <td>VisReplay1</td>\n",
       "      <td>1</td>\n",
       "      <td>AJRbR5DsWkCVKeDZntyRSw</td>\n",
       "      <td>MPLemon</td>\n",
       "      <td>3.375772e-06</td>\n",
       "      <td>1719</td>\n",
       "      <td>429</td>\n",
       "      <td>1723</td>\n",
       "      <td>430</td>\n",
       "      <td>5dfa714add3ffb21c8006240</td>\n",
       "    </tr>\n",
       "    <tr>\n",
       "      <th>3</th>\n",
       "      <td>Mask</td>\n",
       "      <td>5dfb3c0edd3ffb3ce4000900</td>\n",
       "      <td>VisReplay1</td>\n",
       "      <td>1</td>\n",
       "      <td>AJRbR5DsWkCVKeDZntyRSw</td>\n",
       "      <td>MPLemon</td>\n",
       "      <td>3.375772e-06</td>\n",
       "      <td>1719</td>\n",
       "      <td>429</td>\n",
       "      <td>1723</td>\n",
       "      <td>430</td>\n",
       "      <td>5dfa714add3ffb21c8006240</td>\n",
       "    </tr>\n",
       "    <tr>\n",
       "      <th>4</th>\n",
       "      <td>Color</td>\n",
       "      <td>5dfb3c1fdd3ffb3ce400093a</td>\n",
       "      <td>VisReplay1</td>\n",
       "      <td>1</td>\n",
       "      <td>AJRbR5DsWkCVKeDZntyRSw</td>\n",
       "      <td>MPLemon</td>\n",
       "      <td>2.411266e-06</td>\n",
       "      <td>1813</td>\n",
       "      <td>389</td>\n",
       "      <td>1817</td>\n",
       "      <td>390</td>\n",
       "      <td>5dfa714cdd3ffb21c8006330</td>\n",
       "    </tr>\n",
       "    <tr>\n",
       "      <th>5</th>\n",
       "      <td>Mask</td>\n",
       "      <td>5dfb3c1fdd3ffb3ce400093c</td>\n",
       "      <td>VisReplay1</td>\n",
       "      <td>1</td>\n",
       "      <td>AJRbR5DsWkCVKeDZntyRSw</td>\n",
       "      <td>MPLemon</td>\n",
       "      <td>2.411266e-06</td>\n",
       "      <td>1813</td>\n",
       "      <td>389</td>\n",
       "      <td>1817</td>\n",
       "      <td>390</td>\n",
       "      <td>5dfa714cdd3ffb21c8006330</td>\n",
       "    </tr>\n",
       "    <tr>\n",
       "      <th>6</th>\n",
       "      <td>Color</td>\n",
       "      <td>5dfb3c1bdd3ffb3ce400092b</td>\n",
       "      <td>VisReplay1</td>\n",
       "      <td>1</td>\n",
       "      <td>AJRbR5DsWkCVKeDZntyRSw</td>\n",
       "      <td>MPLemon</td>\n",
       "      <td>3.858025e-06</td>\n",
       "      <td>1821</td>\n",
       "      <td>352</td>\n",
       "      <td>1825</td>\n",
       "      <td>353</td>\n",
       "      <td>5dfa714bdd3ffb21c80062f4</td>\n",
       "    </tr>\n",
       "    <tr>\n",
       "      <th>7</th>\n",
       "      <td>Mask</td>\n",
       "      <td>5dfb3c1bdd3ffb3ce400092d</td>\n",
       "      <td>VisReplay1</td>\n",
       "      <td>1</td>\n",
       "      <td>AJRbR5DsWkCVKeDZntyRSw</td>\n",
       "      <td>MPLemon</td>\n",
       "      <td>3.858025e-06</td>\n",
       "      <td>1821</td>\n",
       "      <td>352</td>\n",
       "      <td>1825</td>\n",
       "      <td>353</td>\n",
       "      <td>5dfa714bdd3ffb21c80062f4</td>\n",
       "    </tr>\n",
       "    <tr>\n",
       "      <th>8</th>\n",
       "      <td>Color</td>\n",
       "      <td>5dfb3c17dd3ffb3ce400091c</td>\n",
       "      <td>VisReplay1</td>\n",
       "      <td>1</td>\n",
       "      <td>AJRbR5DsWkCVKeDZntyRSw</td>\n",
       "      <td>MPLemon</td>\n",
       "      <td>2.893519e-06</td>\n",
       "      <td>1711</td>\n",
       "      <td>382</td>\n",
       "      <td>1715</td>\n",
       "      <td>383</td>\n",
       "      <td>5dfa714bdd3ffb21c80062b8</td>\n",
       "    </tr>\n",
       "    <tr>\n",
       "      <th>9</th>\n",
       "      <td>Mask</td>\n",
       "      <td>5dfb3c17dd3ffb3ce400091e</td>\n",
       "      <td>VisReplay1</td>\n",
       "      <td>1</td>\n",
       "      <td>AJRbR5DsWkCVKeDZntyRSw</td>\n",
       "      <td>MPLemon</td>\n",
       "      <td>2.893519e-06</td>\n",
       "      <td>1711</td>\n",
       "      <td>382</td>\n",
       "      <td>1715</td>\n",
       "      <td>383</td>\n",
       "      <td>5dfa714bdd3ffb21c80062b8</td>\n",
       "    </tr>\n",
       "    <tr>\n",
       "      <th>10</th>\n",
       "      <td>Color</td>\n",
       "      <td>5dfb3c23dd3ffb3ce4000949</td>\n",
       "      <td>VisReplay1</td>\n",
       "      <td>1</td>\n",
       "      <td>AJRbR5DsWkCVKeDZntyRSw</td>\n",
       "      <td>MPLemon</td>\n",
       "      <td>2.411266e-06</td>\n",
       "      <td>1767</td>\n",
       "      <td>376</td>\n",
       "      <td>1770</td>\n",
       "      <td>376</td>\n",
       "      <td>5dfa714cdd3ffb21c800636c</td>\n",
       "    </tr>\n",
       "    <tr>\n",
       "      <th>11</th>\n",
       "      <td>Mask</td>\n",
       "      <td>5dfb3c23dd3ffb3ce400094b</td>\n",
       "      <td>VisReplay1</td>\n",
       "      <td>1</td>\n",
       "      <td>AJRbR5DsWkCVKeDZntyRSw</td>\n",
       "      <td>MPLemon</td>\n",
       "      <td>2.411266e-06</td>\n",
       "      <td>1767</td>\n",
       "      <td>376</td>\n",
       "      <td>1770</td>\n",
       "      <td>376</td>\n",
       "      <td>5dfa714cdd3ffb21c800636c</td>\n",
       "    </tr>\n",
       "    <tr>\n",
       "      <th>12</th>\n",
       "      <td>Color</td>\n",
       "      <td>5dfb3c0add3ffb3ce40008ef</td>\n",
       "      <td>VisReplay1</td>\n",
       "      <td>1</td>\n",
       "      <td>AJRbR5DsWkCVKeDZntyRSw</td>\n",
       "      <td>MPLemon</td>\n",
       "      <td>3.858025e-06</td>\n",
       "      <td>1659</td>\n",
       "      <td>423</td>\n",
       "      <td>1665</td>\n",
       "      <td>425</td>\n",
       "      <td>5dfa7149dd3ffb21c8006204</td>\n",
       "    </tr>\n",
       "    <tr>\n",
       "      <th>13</th>\n",
       "      <td>Mask</td>\n",
       "      <td>5dfb3c0add3ffb3ce40008f1</td>\n",
       "      <td>VisReplay1</td>\n",
       "      <td>1</td>\n",
       "      <td>AJRbR5DsWkCVKeDZntyRSw</td>\n",
       "      <td>MPLemon</td>\n",
       "      <td>3.858025e-06</td>\n",
       "      <td>1659</td>\n",
       "      <td>423</td>\n",
       "      <td>1665</td>\n",
       "      <td>425</td>\n",
       "      <td>5dfa7149dd3ffb21c8006204</td>\n",
       "    </tr>\n",
       "    <tr>\n",
       "      <th>14</th>\n",
       "      <td>Color</td>\n",
       "      <td>5dfb3c06dd3ffb3ce40008e0</td>\n",
       "      <td>VisReplay1</td>\n",
       "      <td>1</td>\n",
       "      <td>AJRbR5DsWkCVKeDZntyRSw</td>\n",
       "      <td>MPLemon</td>\n",
       "      <td>3.375772e-06</td>\n",
       "      <td>1602</td>\n",
       "      <td>425</td>\n",
       "      <td>1608</td>\n",
       "      <td>426</td>\n",
       "      <td>5dfa7149dd3ffb21c80061c8</td>\n",
       "    </tr>\n",
       "    <tr>\n",
       "      <th>15</th>\n",
       "      <td>Mask</td>\n",
       "      <td>5dfb3c06dd3ffb3ce40008e2</td>\n",
       "      <td>VisReplay1</td>\n",
       "      <td>1</td>\n",
       "      <td>AJRbR5DsWkCVKeDZntyRSw</td>\n",
       "      <td>MPLemon</td>\n",
       "      <td>3.375772e-06</td>\n",
       "      <td>1602</td>\n",
       "      <td>425</td>\n",
       "      <td>1608</td>\n",
       "      <td>426</td>\n",
       "      <td>5dfa7149dd3ffb21c80061c8</td>\n",
       "    </tr>\n",
       "    <tr>\n",
       "      <th>16</th>\n",
       "      <td>Color</td>\n",
       "      <td>5dfb3be9dd3ffb3ce4000877</td>\n",
       "      <td>VisReplay1</td>\n",
       "      <td>1</td>\n",
       "      <td>AJRbR5DsWkCVKeDZntyRSw</td>\n",
       "      <td>MPLemon</td>\n",
       "      <td>3.375772e-06</td>\n",
       "      <td>636</td>\n",
       "      <td>1026</td>\n",
       "      <td>1267</td>\n",
       "      <td>1062</td>\n",
       "      <td>5dfa7145dd3ffb21c8006062</td>\n",
       "    </tr>\n",
       "    <tr>\n",
       "      <th>17</th>\n",
       "      <td>Mask</td>\n",
       "      <td>5dfb3be9dd3ffb3ce4000879</td>\n",
       "      <td>VisReplay1</td>\n",
       "      <td>1</td>\n",
       "      <td>AJRbR5DsWkCVKeDZntyRSw</td>\n",
       "      <td>MPLemon</td>\n",
       "      <td>3.375772e-06</td>\n",
       "      <td>636</td>\n",
       "      <td>1026</td>\n",
       "      <td>1267</td>\n",
       "      <td>1062</td>\n",
       "      <td>5dfa7145dd3ffb21c8006062</td>\n",
       "    </tr>\n",
       "    <tr>\n",
       "      <th>18</th>\n",
       "      <td>Color</td>\n",
       "      <td>5dfb3be9dd3ffb3ce4000877</td>\n",
       "      <td>VisReplay1</td>\n",
       "      <td>1</td>\n",
       "      <td>PT6ZdsWR8EWrO4uFWjFAow</td>\n",
       "      <td>Rosemary02</td>\n",
       "      <td>4.822531e-07</td>\n",
       "      <td>1920</td>\n",
       "      <td>1080</td>\n",
       "      <td>0</td>\n",
       "      <td>0</td>\n",
       "      <td>5dfa7145dd3ffb21c8006062</td>\n",
       "    </tr>\n",
       "    <tr>\n",
       "      <th>19</th>\n",
       "      <td>Mask</td>\n",
       "      <td>5dfb3be9dd3ffb3ce4000879</td>\n",
       "      <td>VisReplay1</td>\n",
       "      <td>1</td>\n",
       "      <td>PT6ZdsWR8EWrO4uFWjFAow</td>\n",
       "      <td>Rosemary02</td>\n",
       "      <td>4.822531e-07</td>\n",
       "      <td>1920</td>\n",
       "      <td>1080</td>\n",
       "      <td>0</td>\n",
       "      <td>0</td>\n",
       "      <td>5dfa7145dd3ffb21c8006062</td>\n",
       "    </tr>\n",
       "  </tbody>\n",
       "</table>\n",
       "</div>"
      ],
      "text/plain": [
       "     type                   file_id    database collection  \\\n",
       "0   Color  5dfb3c13dd3ffb3ce400090d  VisReplay1          1   \n",
       "1    Mask  5dfb3c13dd3ffb3ce400090f  VisReplay1          1   \n",
       "2   Color  5dfb3c0edd3ffb3ce40008fe  VisReplay1          1   \n",
       "3    Mask  5dfb3c0edd3ffb3ce4000900  VisReplay1          1   \n",
       "4   Color  5dfb3c1fdd3ffb3ce400093a  VisReplay1          1   \n",
       "5    Mask  5dfb3c1fdd3ffb3ce400093c  VisReplay1          1   \n",
       "6   Color  5dfb3c1bdd3ffb3ce400092b  VisReplay1          1   \n",
       "7    Mask  5dfb3c1bdd3ffb3ce400092d  VisReplay1          1   \n",
       "8   Color  5dfb3c17dd3ffb3ce400091c  VisReplay1          1   \n",
       "9    Mask  5dfb3c17dd3ffb3ce400091e  VisReplay1          1   \n",
       "10  Color  5dfb3c23dd3ffb3ce4000949  VisReplay1          1   \n",
       "11   Mask  5dfb3c23dd3ffb3ce400094b  VisReplay1          1   \n",
       "12  Color  5dfb3c0add3ffb3ce40008ef  VisReplay1          1   \n",
       "13   Mask  5dfb3c0add3ffb3ce40008f1  VisReplay1          1   \n",
       "14  Color  5dfb3c06dd3ffb3ce40008e0  VisReplay1          1   \n",
       "15   Mask  5dfb3c06dd3ffb3ce40008e2  VisReplay1          1   \n",
       "16  Color  5dfb3be9dd3ffb3ce4000877  VisReplay1          1   \n",
       "17   Mask  5dfb3be9dd3ffb3ce4000879  VisReplay1          1   \n",
       "18  Color  5dfb3be9dd3ffb3ce4000877  VisReplay1          1   \n",
       "19   Mask  5dfb3be9dd3ffb3ce4000879  VisReplay1          1   \n",
       "\n",
       "                    object       class    percentage  x_min  y_min  x_max  \\\n",
       "0   AJRbR5DsWkCVKeDZntyRSw     MPLemon  3.375772e-06   1757    436   1763   \n",
       "1   AJRbR5DsWkCVKeDZntyRSw     MPLemon  3.375772e-06   1757    436   1763   \n",
       "2   AJRbR5DsWkCVKeDZntyRSw     MPLemon  3.375772e-06   1719    429   1723   \n",
       "3   AJRbR5DsWkCVKeDZntyRSw     MPLemon  3.375772e-06   1719    429   1723   \n",
       "4   AJRbR5DsWkCVKeDZntyRSw     MPLemon  2.411266e-06   1813    389   1817   \n",
       "5   AJRbR5DsWkCVKeDZntyRSw     MPLemon  2.411266e-06   1813    389   1817   \n",
       "6   AJRbR5DsWkCVKeDZntyRSw     MPLemon  3.858025e-06   1821    352   1825   \n",
       "7   AJRbR5DsWkCVKeDZntyRSw     MPLemon  3.858025e-06   1821    352   1825   \n",
       "8   AJRbR5DsWkCVKeDZntyRSw     MPLemon  2.893519e-06   1711    382   1715   \n",
       "9   AJRbR5DsWkCVKeDZntyRSw     MPLemon  2.893519e-06   1711    382   1715   \n",
       "10  AJRbR5DsWkCVKeDZntyRSw     MPLemon  2.411266e-06   1767    376   1770   \n",
       "11  AJRbR5DsWkCVKeDZntyRSw     MPLemon  2.411266e-06   1767    376   1770   \n",
       "12  AJRbR5DsWkCVKeDZntyRSw     MPLemon  3.858025e-06   1659    423   1665   \n",
       "13  AJRbR5DsWkCVKeDZntyRSw     MPLemon  3.858025e-06   1659    423   1665   \n",
       "14  AJRbR5DsWkCVKeDZntyRSw     MPLemon  3.375772e-06   1602    425   1608   \n",
       "15  AJRbR5DsWkCVKeDZntyRSw     MPLemon  3.375772e-06   1602    425   1608   \n",
       "16  AJRbR5DsWkCVKeDZntyRSw     MPLemon  3.375772e-06    636   1026   1267   \n",
       "17  AJRbR5DsWkCVKeDZntyRSw     MPLemon  3.375772e-06    636   1026   1267   \n",
       "18  PT6ZdsWR8EWrO4uFWjFAow  Rosemary02  4.822531e-07   1920   1080      0   \n",
       "19  PT6ZdsWR8EWrO4uFWjFAow  Rosemary02  4.822531e-07   1920   1080      0   \n",
       "\n",
       "    y_max                  document  \n",
       "0     437  5dfa714add3ffb21c800627c  \n",
       "1     437  5dfa714add3ffb21c800627c  \n",
       "2     430  5dfa714add3ffb21c8006240  \n",
       "3     430  5dfa714add3ffb21c8006240  \n",
       "4     390  5dfa714cdd3ffb21c8006330  \n",
       "5     390  5dfa714cdd3ffb21c8006330  \n",
       "6     353  5dfa714bdd3ffb21c80062f4  \n",
       "7     353  5dfa714bdd3ffb21c80062f4  \n",
       "8     383  5dfa714bdd3ffb21c80062b8  \n",
       "9     383  5dfa714bdd3ffb21c80062b8  \n",
       "10    376  5dfa714cdd3ffb21c800636c  \n",
       "11    376  5dfa714cdd3ffb21c800636c  \n",
       "12    425  5dfa7149dd3ffb21c8006204  \n",
       "13    425  5dfa7149dd3ffb21c8006204  \n",
       "14    426  5dfa7149dd3ffb21c80061c8  \n",
       "15    426  5dfa7149dd3ffb21c80061c8  \n",
       "16   1062  5dfa7145dd3ffb21c8006062  \n",
       "17   1062  5dfa7145dd3ffb21c8006062  \n",
       "18      0  5dfa7145dd3ffb21c8006062  \n",
       "19      0  5dfa7145dd3ffb21c8006062  "
      ]
     },
     "execution_count": 5,
     "metadata": {},
     "output_type": "execute_result"
    }
   ],
   "source": [
    "print(result.shape)\n",
    "result.head(20)"
   ]
  },
  {
   "cell_type": "markdown",
   "metadata": {
    "ExecuteTime": {
     "end_time": "2019-10-30T20:58:27.545346Z",
     "start_time": "2019-10-30T20:58:22.036681Z"
    }
   },
   "source": [
    " __Result records all qualified images and objects exist on them.<br>\n",
    " Let's download these images.__"
   ]
  },
  {
   "cell_type": "code",
   "execution_count": 6,
   "metadata": {
    "ExecuteTime": {
     "end_time": "2019-11-01T10:03:48.555811Z",
     "start_time": "2019-11-01T10:03:43.153064Z"
    }
   },
   "outputs": [
    {
     "name": "stdout",
     "output_type": "stream",
     "text": [
      "Enter downloading!\n",
      "Enter collection: ('VisReplay1', '1')\n",
      "Length of images 18\n"
     ]
    }
   ],
   "source": [
    "download_images(IP,IMAGE_ROOT,IMAGE_FOLDER,result)"
   ]
  },
  {
   "cell_type": "markdown",
   "metadata": {},
   "source": [
    "__Right now all the images are stored in ./saved_images/one_example_search.__"
   ]
  },
  {
   "cell_type": "markdown",
   "metadata": {},
   "source": [
    "<img src=\"demo_images/d1.png\">"
   ]
  },
  {
   "cell_type": "markdown",
   "metadata": {},
   "source": [
    "## 1.1 GET cropped objects for training a classifer"
   ]
  },
  {
   "cell_type": "markdown",
   "metadata": {
    "ExecuteTime": {
     "end_time": "2019-10-30T20:59:00.246718Z",
     "start_time": "2019-10-30T20:58:27.581347Z"
    }
   },
   "source": [
    " __Let's download the cropped images to the same folder.__"
   ]
  },
  {
   "cell_type": "code",
   "execution_count": 7,
   "metadata": {
    "ExecuteTime": {
     "end_time": "2019-11-01T10:04:21.550544Z",
     "start_time": "2019-11-01T10:03:48.603864Z"
    }
   },
   "outputs": [
    {
     "name": "stdout",
     "output_type": "stream",
     "text": [
      "Only one pixel, pass!\n",
      "Only one pixel, pass!\n",
      "Only one pixel, pass!\n",
      "Only one pixel, pass!\n",
      "Only one pixel, pass!\n",
      "Only one pixel, pass!\n",
      "Only one pixel, pass!\n",
      "Only one pixel, pass!\n",
      "Only one pixel, pass!\n"
     ]
    }
   ],
   "source": [
    "download_bounding_box(result,IMAGE_ROOT,IMAGE_FOLDER)"
   ]
  },
  {
   "cell_type": "markdown",
   "metadata": {},
   "source": [
    "    __You can check the new images in the same folder.__"
   ]
  },
  {
   "cell_type": "markdown",
   "metadata": {},
   "source": [
    "<img src=\"demo_images/d3.png\">"
   ]
  },
  {
   "cell_type": "code",
   "execution_count": 8,
   "metadata": {
    "ExecuteTime": {
     "end_time": "2019-11-01T10:04:21.969546Z",
     "start_time": "2019-11-01T10:04:21.551546Z"
    }
   },
   "outputs": [
    {
     "name": "stdout",
     "output_type": "stream",
     "text": [
      "Enter resizing image.\n",
      "Enter resizing. 80\n"
     ]
    }
   ],
   "source": [
    "# (Optional) Resize all cropped images to a desired shape\n",
    "image_dir=scan_bb_images(IMAGE_ROOT,IMAGE_FOLDER,unnest=True)\n",
    "resize_all_images(image_dir,width=80,height=80,resize_type='cut')"
   ]
  },
  {
   "cell_type": "markdown",
   "metadata": {},
   "source": [
    "__All images are resized to 80x80 resolution.__\n",
    "<img src=\"demo_images/d4.png\">"
   ]
  },
  {
   "cell_type": "markdown",
   "metadata": {},
   "source": [
    "__You can also pad the images to a desired resolution, the six padding types are from *cv2.copyMakeBorder()*__"
   ]
  },
  {
   "cell_type": "code",
   "execution_count": 9,
   "metadata": {
    "ExecuteTime": {
     "end_time": "2019-11-01T10:04:22.282544Z",
     "start_time": "2019-11-01T10:04:21.971552Z"
    }
   },
   "outputs": [],
   "source": [
    "pad_all_images(image_dir,width=100,height=60,pad_type=cv2.BORDER_REFLECT)"
   ]
  },
  {
   "cell_type": "markdown",
   "metadata": {},
   "source": [
    "__Images are padded with the given pad_type.__\n",
    "<img src=\"demo_images/d5.png\">"
   ]
  },
  {
   "cell_type": "markdown",
   "metadata": {
    "ExecuteTime": {
     "end_time": "2019-10-25T10:47:07.562349Z",
     "start_time": "2019-10-25T10:47:07.558350Z"
    }
   },
   "source": [
    "## 1.2 Get annotation of bounding boxes for training object detection models"
   ]
  },
  {
   "cell_type": "code",
   "execution_count": 10,
   "metadata": {
    "ExecuteTime": {
     "end_time": "2019-11-01T10:04:26.639723Z",
     "start_time": "2019-11-01T10:04:22.283546Z"
    }
   },
   "outputs": [
    {
     "name": "stdout",
     "output_type": "stream",
     "text": [
      "Enter resizing image.\n",
      "Enter resizing. 300\n"
     ]
    }
   ],
   "source": [
    "# (Optional) resize all images to a desire shape before annotation, so that the bounding box coordinates can be calculated right.\n",
    "image_dir=scan_images(IMAGE_ROOT,IMAGE_FOLDER,['Color','Mask'],unnest=True)\n",
    "resize_all_images(image_dir,width=300,height=300,resize_type='cut')\n",
    "\n",
    "# You can also scale images with a give ratio\n",
    "# scale_all_images(image_dir,ratio=1.2)"
   ]
  },
  {
   "cell_type": "markdown",
   "metadata": {},
   "source": [
    "__Images are rezized.__\n",
    "<img src=\"demo_images/d6.png\">"
   ]
  },
  {
   "cell_type": "code",
   "execution_count": 11,
   "metadata": {
    "ExecuteTime": {
     "end_time": "2019-11-01T10:04:35.789834Z",
     "start_time": "2019-11-01T10:04:35.779834Z"
    },
    "scrolled": true
   },
   "outputs": [
    {
     "data": {
      "text/html": [
       "<div>\n",
       "<style scoped>\n",
       "    .dataframe tbody tr th:only-of-type {\n",
       "        vertical-align: middle;\n",
       "    }\n",
       "\n",
       "    .dataframe tbody tr th {\n",
       "        vertical-align: top;\n",
       "    }\n",
       "\n",
       "    .dataframe thead th {\n",
       "        text-align: right;\n",
       "    }\n",
       "</style>\n",
       "<table border=\"1\" class=\"dataframe\">\n",
       "  <thead>\n",
       "    <tr style=\"text-align: right;\">\n",
       "      <th></th>\n",
       "      <th>class</th>\n",
       "      <th>file_id</th>\n",
       "      <th>x_min</th>\n",
       "      <th>x_max</th>\n",
       "      <th>y_min</th>\n",
       "      <th>y_max</th>\n",
       "    </tr>\n",
       "  </thead>\n",
       "  <tbody>\n",
       "    <tr>\n",
       "      <th>0</th>\n",
       "      <td>MPLemon</td>\n",
       "      <td>5dfb3c13dd3ffb3ce400090d</td>\n",
       "      <td>1757</td>\n",
       "      <td>1763</td>\n",
       "      <td>436</td>\n",
       "      <td>437</td>\n",
       "    </tr>\n",
       "    <tr>\n",
       "      <th>2</th>\n",
       "      <td>MPLemon</td>\n",
       "      <td>5dfb3c0edd3ffb3ce40008fe</td>\n",
       "      <td>1719</td>\n",
       "      <td>1723</td>\n",
       "      <td>429</td>\n",
       "      <td>430</td>\n",
       "    </tr>\n",
       "    <tr>\n",
       "      <th>4</th>\n",
       "      <td>MPLemon</td>\n",
       "      <td>5dfb3c1fdd3ffb3ce400093a</td>\n",
       "      <td>1813</td>\n",
       "      <td>1817</td>\n",
       "      <td>389</td>\n",
       "      <td>390</td>\n",
       "    </tr>\n",
       "    <tr>\n",
       "      <th>6</th>\n",
       "      <td>MPLemon</td>\n",
       "      <td>5dfb3c1bdd3ffb3ce400092b</td>\n",
       "      <td>1821</td>\n",
       "      <td>1825</td>\n",
       "      <td>352</td>\n",
       "      <td>353</td>\n",
       "    </tr>\n",
       "    <tr>\n",
       "      <th>8</th>\n",
       "      <td>MPLemon</td>\n",
       "      <td>5dfb3c17dd3ffb3ce400091c</td>\n",
       "      <td>1711</td>\n",
       "      <td>1715</td>\n",
       "      <td>382</td>\n",
       "      <td>383</td>\n",
       "    </tr>\n",
       "  </tbody>\n",
       "</table>\n",
       "</div>"
      ],
      "text/plain": [
       "     class                   file_id  x_min  x_max  y_min  y_max\n",
       "0  MPLemon  5dfb3c13dd3ffb3ce400090d   1757   1763    436    437\n",
       "2  MPLemon  5dfb3c0edd3ffb3ce40008fe   1719   1723    429    430\n",
       "4  MPLemon  5dfb3c1fdd3ffb3ce400093a   1813   1817    389    390\n",
       "6  MPLemon  5dfb3c1bdd3ffb3ce400092b   1821   1825    352    353\n",
       "8  MPLemon  5dfb3c17dd3ffb3ce400091c   1711   1715    382    383"
      ]
     },
     "execution_count": 11,
     "metadata": {},
     "output_type": "execute_result"
    }
   ],
   "source": [
    "df=result\n",
    "df=df[df['type']=='Color']\n",
    "df1=df[['class','file_id','x_min','x_max','y_min','y_max']]\n",
    "df1.head()"
   ]
  },
  {
   "cell_type": "code",
   "execution_count": 12,
   "metadata": {
    "ExecuteTime": {
     "end_time": "2019-11-01T10:04:36.344840Z",
     "start_time": "2019-11-01T10:04:35.790834Z"
    }
   },
   "outputs": [],
   "source": [
    "# Let's save the annotations\n",
    "annotaion_path=os.path.join(IMAGE_ROOT,IMAGE_FOLDER,'annotation.txt')\n",
    "class_mapping_path=os.path.join(IMAGE_ROOT,IMAGE_FOLDER,'class_mapping.txt')\n",
    "convert_df_to_annotation(df,annotaion_path,class_mapping_path)"
   ]
  },
  {
   "cell_type": "markdown",
   "metadata": {},
   "source": [
    "__Now we have got both the images and annotations, you can copy the \"Color\" folder and \"annotation.txt\" to train a detection model now!__"
   ]
  },
  {
   "cell_type": "markdown",
   "metadata": {},
   "source": [
    "<img src=\"demo_images/d2.png\">"
   ]
  },
  {
   "cell_type": "markdown",
   "metadata": {
    "ExecuteTime": {
     "end_time": "2019-10-25T11:38:46.305175Z",
     "start_time": "2019-10-25T11:38:46.300178Z"
    }
   },
   "source": [
    "# 2. Event Search\n",
    "__Event Search is used to search for exact images depending on conditions.__"
   ]
  },
  {
   "cell_type": "code",
   "execution_count": 15,
   "metadata": {
    "ExecuteTime": {
     "end_time": "2019-11-01T10:04:36.369839Z",
     "start_time": "2019-11-01T10:04:36.345840Z"
    }
   },
   "outputs": [
    {
     "name": "stdout",
     "output_type": "stream",
     "text": [
      "[{'$match': {'vision': {'$exists': 1}}}, {'$match': {'timestamp': {'$gte': 3.0}}}, {'$unwind': {'path': '$vision.views'}}, {'$match': {'vision.views.class': 'IAILabWallsVisionCamera'}}, {'$limit': 1}, {'$replaceRoot': {'newRoot': '$vision.views'}}, {'$unwind': {'path': '$images'}}, {'$replaceRoot': {'newRoot': '$images'}}, {'$addFields': {'database': 'VisReplay1'}}, {'$addFields': {'collection': '1'}}]\n"
     ]
    }
   ],
   "source": [
    "input_sentences=[['VisReplay1','1',3,'IAILabWallsVisionCamera']]\n",
    "df=event_search(IP,input_sentences)"
   ]
  },
  {
   "cell_type": "code",
   "execution_count": 16,
   "metadata": {
    "ExecuteTime": {
     "end_time": "2019-11-01T10:04:36.374841Z",
     "start_time": "2019-11-01T10:04:36.370841Z"
    }
   },
   "outputs": [
    {
     "name": "stdout",
     "output_type": "stream",
     "text": [
      "     type                   file_id    database collection\n",
      "0   Color  5dfb3c02dd3ffb3ce40008cc  VisReplay1          1\n",
      "1   Unlit  5dfb3c02dd3ffb3ce40008cd  VisReplay1          1\n",
      "2    Mask  5dfb3c02dd3ffb3ce40008ce  VisReplay1          1\n",
      "3   Depth  5dfb3c02dd3ffb3ce40008cf  VisReplay1          1\n",
      "4  Normal  5dfb3c02dd3ffb3ce40008d0  VisReplay1          1\n"
     ]
    }
   ],
   "source": [
    "# You can download these images as we did before\n",
    "print(df.head())"
   ]
  }
 ],
 "metadata": {
  "kernelspec": {
   "display_name": "Python 3",
   "language": "python",
   "name": "python3"
  },
  "language_info": {
   "codemirror_mode": {
    "name": "ipython",
    "version": 3
   },
   "file_extension": ".py",
   "mimetype": "text/x-python",
   "name": "python",
   "nbconvert_exporter": "python",
   "pygments_lexer": "ipython3",
   "version": "3.7.4"
  }
 },
 "nbformat": 4,
 "nbformat_minor": 2
}
