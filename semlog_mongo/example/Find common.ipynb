{
 "cells": [
  {
   "cell_type": "code",
   "execution_count": 1,
   "metadata": {
    "ExecuteTime": {
     "end_time": "2019-12-20T15:53:54.490472Z",
     "start_time": "2019-12-20T15:53:54.126440Z"
    }
   },
   "outputs": [],
   "source": [
    "import pandas as pd"
   ]
  },
  {
   "cell_type": "code",
   "execution_count": 2,
   "metadata": {
    "ExecuteTime": {
     "end_time": "2019-12-20T15:54:16.115407Z",
     "start_time": "2019-12-20T15:54:16.103364Z"
    }
   },
   "outputs": [],
   "source": [
    "df=pd.read_csv(\"common.csv\")"
   ]
  },
  {
   "cell_type": "code",
   "execution_count": 3,
   "metadata": {
    "ExecuteTime": {
     "end_time": "2019-12-20T15:54:20.425101Z",
     "start_time": "2019-12-20T15:54:20.408103Z"
    }
   },
   "outputs": [
    {
     "data": {
      "text/html": [
       "<div>\n",
       "<style scoped>\n",
       "    .dataframe tbody tr th:only-of-type {\n",
       "        vertical-align: middle;\n",
       "    }\n",
       "\n",
       "    .dataframe tbody tr th {\n",
       "        vertical-align: top;\n",
       "    }\n",
       "\n",
       "    .dataframe thead th {\n",
       "        text-align: right;\n",
       "    }\n",
       "</style>\n",
       "<table border=\"1\" class=\"dataframe\">\n",
       "  <thead>\n",
       "    <tr style=\"text-align: right;\">\n",
       "      <th></th>\n",
       "      <th>class</th>\n",
       "      <th>collection</th>\n",
       "      <th>database</th>\n",
       "      <th>document</th>\n",
       "      <th>file_id</th>\n",
       "      <th>object</th>\n",
       "      <th>percentage</th>\n",
       "      <th>type</th>\n",
       "      <th>x_max</th>\n",
       "      <th>x_min</th>\n",
       "      <th>y_max</th>\n",
       "      <th>y_min</th>\n",
       "    </tr>\n",
       "  </thead>\n",
       "  <tbody>\n",
       "    <tr>\n",
       "      <th>0</th>\n",
       "      <td>MPApple</td>\n",
       "      <td>1</td>\n",
       "      <td>VisReplayMeta</td>\n",
       "      <td>5dfb6703dd3ffb419c008189</td>\n",
       "      <td>5dfb6bdddd3ffb49dc00584d</td>\n",
       "      <td>wPBKnrHpVUGcU6Aqsn0DZg</td>\n",
       "      <td>0.000172</td>\n",
       "      <td>Color</td>\n",
       "      <td>820.0</td>\n",
       "      <td>801.0</td>\n",
       "      <td>767.0</td>\n",
       "      <td>745.0</td>\n",
       "    </tr>\n",
       "    <tr>\n",
       "      <th>1</th>\n",
       "      <td>MPApple</td>\n",
       "      <td>1</td>\n",
       "      <td>VisReplayMeta</td>\n",
       "      <td>5dfb6703dd3ffb419c008189</td>\n",
       "      <td>5dfb6bdddd3ffb49dc00584f</td>\n",
       "      <td>wPBKnrHpVUGcU6Aqsn0DZg</td>\n",
       "      <td>0.000172</td>\n",
       "      <td>Mask</td>\n",
       "      <td>820.0</td>\n",
       "      <td>801.0</td>\n",
       "      <td>767.0</td>\n",
       "      <td>745.0</td>\n",
       "    </tr>\n",
       "    <tr>\n",
       "      <th>2</th>\n",
       "      <td>MPApple</td>\n",
       "      <td>1</td>\n",
       "      <td>VisReplayMeta</td>\n",
       "      <td>5dfb6703dd3ffb419c008189</td>\n",
       "      <td>5dfb6bdddd3ffb49dc005857</td>\n",
       "      <td>wPBKnrHpVUGcU6Aqsn0DZg</td>\n",
       "      <td>0.001878</td>\n",
       "      <td>Color</td>\n",
       "      <td>403.0</td>\n",
       "      <td>332.0</td>\n",
       "      <td>797.0</td>\n",
       "      <td>729.0</td>\n",
       "    </tr>\n",
       "    <tr>\n",
       "      <th>3</th>\n",
       "      <td>MPApple</td>\n",
       "      <td>1</td>\n",
       "      <td>VisReplayMeta</td>\n",
       "      <td>5dfb6703dd3ffb419c008189</td>\n",
       "      <td>5dfb6bdddd3ffb49dc005859</td>\n",
       "      <td>wPBKnrHpVUGcU6Aqsn0DZg</td>\n",
       "      <td>0.001878</td>\n",
       "      <td>Mask</td>\n",
       "      <td>403.0</td>\n",
       "      <td>332.0</td>\n",
       "      <td>797.0</td>\n",
       "      <td>729.0</td>\n",
       "    </tr>\n",
       "    <tr>\n",
       "      <th>4</th>\n",
       "      <td>MPApple</td>\n",
       "      <td>1</td>\n",
       "      <td>VisReplayMeta</td>\n",
       "      <td>5dfb6704dd3ffb419c008201</td>\n",
       "      <td>5dfb6be2dd3ffb49dc00585c</td>\n",
       "      <td>wPBKnrHpVUGcU6Aqsn0DZg</td>\n",
       "      <td>0.000175</td>\n",
       "      <td>Color</td>\n",
       "      <td>841.0</td>\n",
       "      <td>821.0</td>\n",
       "      <td>768.0</td>\n",
       "      <td>747.0</td>\n",
       "    </tr>\n",
       "  </tbody>\n",
       "</table>\n",
       "</div>"
      ],
      "text/plain": [
       "     class  collection       database                  document  \\\n",
       "0  MPApple           1  VisReplayMeta  5dfb6703dd3ffb419c008189   \n",
       "1  MPApple           1  VisReplayMeta  5dfb6703dd3ffb419c008189   \n",
       "2  MPApple           1  VisReplayMeta  5dfb6703dd3ffb419c008189   \n",
       "3  MPApple           1  VisReplayMeta  5dfb6703dd3ffb419c008189   \n",
       "4  MPApple           1  VisReplayMeta  5dfb6704dd3ffb419c008201   \n",
       "\n",
       "                    file_id                  object  percentage   type  x_max  \\\n",
       "0  5dfb6bdddd3ffb49dc00584d  wPBKnrHpVUGcU6Aqsn0DZg    0.000172  Color  820.0   \n",
       "1  5dfb6bdddd3ffb49dc00584f  wPBKnrHpVUGcU6Aqsn0DZg    0.000172   Mask  820.0   \n",
       "2  5dfb6bdddd3ffb49dc005857  wPBKnrHpVUGcU6Aqsn0DZg    0.001878  Color  403.0   \n",
       "3  5dfb6bdddd3ffb49dc005859  wPBKnrHpVUGcU6Aqsn0DZg    0.001878   Mask  403.0   \n",
       "4  5dfb6be2dd3ffb49dc00585c  wPBKnrHpVUGcU6Aqsn0DZg    0.000175  Color  841.0   \n",
       "\n",
       "   x_min  y_max  y_min  \n",
       "0  801.0  767.0  745.0  \n",
       "1  801.0  767.0  745.0  \n",
       "2  332.0  797.0  729.0  \n",
       "3  332.0  797.0  729.0  \n",
       "4  821.0  768.0  747.0  "
      ]
     },
     "execution_count": 3,
     "metadata": {},
     "output_type": "execute_result"
    }
   ],
   "source": [
    "df.head()"
   ]
  },
  {
   "cell_type": "code",
   "execution_count": 4,
   "metadata": {
    "ExecuteTime": {
     "end_time": "2019-12-20T15:55:04.451369Z",
     "start_time": "2019-12-20T15:55:04.448368Z"
    }
   },
   "outputs": [],
   "source": [
    "g=df.groupby(['file_id'])"
   ]
  },
  {
   "cell_type": "code",
   "execution_count": 21,
   "metadata": {
    "ExecuteTime": {
     "end_time": "2019-12-20T16:01:39.254783Z",
     "start_time": "2019-12-20T16:01:39.206785Z"
    }
   },
   "outputs": [
    {
     "name": "stdout",
     "output_type": "stream",
     "text": [
      "[38, 39, 196, 198, 200, 202, 197, 199, 201, 203, 180, 181, 164, 165]\n",
      "(236, 12)\n",
      "(222, 12)\n"
     ]
    }
   ],
   "source": [
    "remove_index_list=[]\n",
    "for name,sub in g:\n",
    "    num_classes=sub['class'].value_counts().shape[0]\n",
    "    if num_classes!=2:\n",
    "        remove_index_list.extend(sub.index.values)\n",
    "print(remove_index_list)\n",
    "print(df.shape)\n",
    "df2=df.drop(index=remove_index_list)\n",
    "print(df2.shape)"
   ]
  },
  {
   "cell_type": "code",
   "execution_count": null,
   "metadata": {},
   "outputs": [],
   "source": [
    "def find_conjunction_images_from_df(df,id_list,object_pattern):\n",
    "    \"\"\"Used to remove unqualified entries in an AND search.\"\"\"\n",
    "    remove_index_list=[]\n",
    "    grouped_df=df.groupby(['file_id'])\n",
    "    for each_file_id,grouped_set in grouped_df:\n",
    "        if object_pattern=='class':\n",
    "            num_unique=grouped_set['class'].value_counts().shape[0]\n",
    "        else:\n",
    "            num_unique=grouped_set['object'].value_counts().shape[0]\n",
    "        \n",
    "        if num_unique!=len(id_list):\n",
    "            remove_index_list.extend(grouped_set.index.values)\n",
    "    df=df.drop(index=remove_index_list)\n",
    "    return df\n",
    "    \n",
    "    "
   ]
  }
 ],
 "metadata": {
  "kernelspec": {
   "display_name": "Python 3",
   "language": "python",
   "name": "python3"
  },
  "language_info": {
   "codemirror_mode": {
    "name": "ipython",
    "version": 3
   },
   "file_extension": ".py",
   "mimetype": "text/x-python",
   "name": "python",
   "nbconvert_exporter": "python",
   "pygments_lexer": "ipython3",
   "version": "3.7.3"
  }
 },
 "nbformat": 4,
 "nbformat_minor": 2
}
